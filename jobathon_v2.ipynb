{
 "cells": [
  {
   "cell_type": "code",
   "execution_count": 11,
   "id": "c81f2467",
   "metadata": {},
   "outputs": [],
   "source": [
    "\n",
    "import pandas as pd\n",
    "import numpy as np\n",
    "\n",
    "from datetime import datetime\n",
    "\n",
    "from sklearn.pipeline import Pipeline\n",
    "from sklearn import metrics\n",
    "\n",
    "\n",
    "import matplotlib.pyplot as plt\n",
    "import seaborn as sns\n",
    "\n",
    "import warnings\n",
    "warnings.filterwarnings('ignore')\n",
    "\n",
    "%matplotlib inline"
   ]
  },
  {
   "cell_type": "code",
   "execution_count": 12,
   "id": "e3de2364",
   "metadata": {},
   "outputs": [
    {
     "name": "stdout",
     "output_type": "stream",
     "text": [
      "(188340, 9)\n",
      "(22265, 7)\n"
     ]
    }
   ],
   "source": [
    "data = pd.read_csv(\"TRAIN.csv\", index_col=0, parse_dates=['Date'])\n",
    "unseen = pd.read_csv(\"TEST_FINAL.csv\",index_col=0, parse_dates=['Date'])\n",
    "\n",
    "print(data.shape)\n",
    "print(unseen.shape)"
   ]
  },
  {
   "cell_type": "code",
   "execution_count": 13,
   "id": "bcaf7c24",
   "metadata": {},
   "outputs": [
    {
     "data": {
      "text/html": [
       "<div>\n",
       "<style scoped>\n",
       "    .dataframe tbody tr th:only-of-type {\n",
       "        vertical-align: middle;\n",
       "    }\n",
       "\n",
       "    .dataframe tbody tr th {\n",
       "        vertical-align: top;\n",
       "    }\n",
       "\n",
       "    .dataframe thead th {\n",
       "        text-align: right;\n",
       "    }\n",
       "</style>\n",
       "<table border=\"1\" class=\"dataframe\">\n",
       "  <thead>\n",
       "    <tr style=\"text-align: right;\">\n",
       "      <th></th>\n",
       "      <th>Store_id</th>\n",
       "      <th>Store_Type</th>\n",
       "      <th>Location_Type</th>\n",
       "      <th>Region_Code</th>\n",
       "      <th>Date</th>\n",
       "      <th>Holiday</th>\n",
       "      <th>Discount</th>\n",
       "      <th>#Order</th>\n",
       "      <th>Sales</th>\n",
       "    </tr>\n",
       "    <tr>\n",
       "      <th>ID</th>\n",
       "      <th></th>\n",
       "      <th></th>\n",
       "      <th></th>\n",
       "      <th></th>\n",
       "      <th></th>\n",
       "      <th></th>\n",
       "      <th></th>\n",
       "      <th></th>\n",
       "      <th></th>\n",
       "    </tr>\n",
       "  </thead>\n",
       "  <tbody>\n",
       "    <tr>\n",
       "      <th>T1000001</th>\n",
       "      <td>1</td>\n",
       "      <td>S1</td>\n",
       "      <td>L3</td>\n",
       "      <td>R1</td>\n",
       "      <td>2018-01-01</td>\n",
       "      <td>1</td>\n",
       "      <td>Yes</td>\n",
       "      <td>9</td>\n",
       "      <td>7011.84</td>\n",
       "    </tr>\n",
       "    <tr>\n",
       "      <th>T1000002</th>\n",
       "      <td>253</td>\n",
       "      <td>S4</td>\n",
       "      <td>L2</td>\n",
       "      <td>R1</td>\n",
       "      <td>2018-01-01</td>\n",
       "      <td>1</td>\n",
       "      <td>Yes</td>\n",
       "      <td>60</td>\n",
       "      <td>51789.12</td>\n",
       "    </tr>\n",
       "    <tr>\n",
       "      <th>T1000003</th>\n",
       "      <td>252</td>\n",
       "      <td>S3</td>\n",
       "      <td>L2</td>\n",
       "      <td>R1</td>\n",
       "      <td>2018-01-01</td>\n",
       "      <td>1</td>\n",
       "      <td>Yes</td>\n",
       "      <td>42</td>\n",
       "      <td>36868.20</td>\n",
       "    </tr>\n",
       "    <tr>\n",
       "      <th>T1000004</th>\n",
       "      <td>251</td>\n",
       "      <td>S2</td>\n",
       "      <td>L3</td>\n",
       "      <td>R1</td>\n",
       "      <td>2018-01-01</td>\n",
       "      <td>1</td>\n",
       "      <td>Yes</td>\n",
       "      <td>23</td>\n",
       "      <td>19715.16</td>\n",
       "    </tr>\n",
       "    <tr>\n",
       "      <th>T1000005</th>\n",
       "      <td>250</td>\n",
       "      <td>S2</td>\n",
       "      <td>L3</td>\n",
       "      <td>R4</td>\n",
       "      <td>2018-01-01</td>\n",
       "      <td>1</td>\n",
       "      <td>Yes</td>\n",
       "      <td>62</td>\n",
       "      <td>45614.52</td>\n",
       "    </tr>\n",
       "  </tbody>\n",
       "</table>\n",
       "</div>"
      ],
      "text/plain": [
       "          Store_id Store_Type Location_Type Region_Code       Date  Holiday  \\\n",
       "ID                                                                            \n",
       "T1000001         1         S1            L3          R1 2018-01-01        1   \n",
       "T1000002       253         S4            L2          R1 2018-01-01        1   \n",
       "T1000003       252         S3            L2          R1 2018-01-01        1   \n",
       "T1000004       251         S2            L3          R1 2018-01-01        1   \n",
       "T1000005       250         S2            L3          R4 2018-01-01        1   \n",
       "\n",
       "         Discount  #Order     Sales  \n",
       "ID                                   \n",
       "T1000001      Yes       9   7011.84  \n",
       "T1000002      Yes      60  51789.12  \n",
       "T1000003      Yes      42  36868.20  \n",
       "T1000004      Yes      23  19715.16  \n",
       "T1000005      Yes      62  45614.52  "
      ]
     },
     "execution_count": 13,
     "metadata": {},
     "output_type": "execute_result"
    }
   ],
   "source": [
    "data.head()"
   ]
  },
  {
   "cell_type": "code",
   "execution_count": 14,
   "id": "6fba9552",
   "metadata": {},
   "outputs": [],
   "source": [
    "data = data.sort_values(['Date', 'Store_id'], ascending=[True, True])"
   ]
  },
  {
   "cell_type": "code",
   "execution_count": 15,
   "id": "20f71b92",
   "metadata": {},
   "outputs": [
    {
     "name": "stdout",
     "output_type": "stream",
     "text": [
      "<class 'pandas.core.frame.DataFrame'>\n",
      "Index: 188340 entries, T1000001 to T1187984\n",
      "Data columns (total 9 columns):\n",
      " #   Column         Non-Null Count   Dtype         \n",
      "---  ------         --------------   -----         \n",
      " 0   Store_id       188340 non-null  int64         \n",
      " 1   Store_Type     188340 non-null  object        \n",
      " 2   Location_Type  188340 non-null  object        \n",
      " 3   Region_Code    188340 non-null  object        \n",
      " 4   Date           188340 non-null  datetime64[ns]\n",
      " 5   Holiday        188340 non-null  int64         \n",
      " 6   Discount       188340 non-null  object        \n",
      " 7   #Order         188340 non-null  int64         \n",
      " 8   Sales          188340 non-null  float64       \n",
      "dtypes: datetime64[ns](1), float64(1), int64(3), object(4)\n",
      "memory usage: 14.4+ MB\n"
     ]
    }
   ],
   "source": [
    "data.info()"
   ]
  },
  {
   "cell_type": "code",
   "execution_count": 16,
   "id": "57b32ca2",
   "metadata": {},
   "outputs": [
    {
     "data": {
      "text/plain": [
       "Store_id         0.0\n",
       "Store_Type       0.0\n",
       "Location_Type    0.0\n",
       "Region_Code      0.0\n",
       "Date             0.0\n",
       "Holiday          0.0\n",
       "Discount         0.0\n",
       "#Order           0.0\n",
       "Sales            0.0\n",
       "dtype: float64"
      ]
     },
     "execution_count": 16,
     "metadata": {},
     "output_type": "execute_result"
    }
   ],
   "source": [
    "# percentage of missing values in each column\n",
    "round(100*(data.isnull().sum()/len(data)), 2).sort_values(ascending=False)"
   ]
  },
  {
   "cell_type": "code",
   "execution_count": 17,
   "id": "462f0261",
   "metadata": {},
   "outputs": [
    {
     "name": "stdout",
     "output_type": "stream",
     "text": [
      "(188340, 9)\n",
      "(188340, 9)\n"
     ]
    }
   ],
   "source": [
    "data_dup = data.copy()\n",
    "\n",
    "# Checking for duplicates and dropping the entire duplicate row if any\n",
    "data_dup.drop_duplicates(subset=None, inplace=True)\n",
    "print(data.shape)\n",
    "print(data_dup.shape)"
   ]
  },
  {
   "cell_type": "code",
   "execution_count": 18,
   "id": "bf48eedf",
   "metadata": {},
   "outputs": [
    {
     "data": {
      "text/html": [
       "<div>\n",
       "<style scoped>\n",
       "    .dataframe tbody tr th:only-of-type {\n",
       "        vertical-align: middle;\n",
       "    }\n",
       "\n",
       "    .dataframe tbody tr th {\n",
       "        vertical-align: top;\n",
       "    }\n",
       "\n",
       "    .dataframe thead th {\n",
       "        text-align: right;\n",
       "    }\n",
       "</style>\n",
       "<table border=\"1\" class=\"dataframe\">\n",
       "  <thead>\n",
       "    <tr style=\"text-align: right;\">\n",
       "      <th></th>\n",
       "      <th>Store_id</th>\n",
       "      <th>Store_Type</th>\n",
       "      <th>Location_Type</th>\n",
       "      <th>Region_Code</th>\n",
       "      <th>Date</th>\n",
       "      <th>Holiday</th>\n",
       "      <th>Discount</th>\n",
       "      <th>#Order</th>\n",
       "      <th>Sales</th>\n",
       "    </tr>\n",
       "    <tr>\n",
       "      <th>ID</th>\n",
       "      <th></th>\n",
       "      <th></th>\n",
       "      <th></th>\n",
       "      <th></th>\n",
       "      <th></th>\n",
       "      <th></th>\n",
       "      <th></th>\n",
       "      <th></th>\n",
       "      <th></th>\n",
       "    </tr>\n",
       "  </thead>\n",
       "  <tbody>\n",
       "    <tr>\n",
       "      <th>T1000001</th>\n",
       "      <td>1</td>\n",
       "      <td>S1</td>\n",
       "      <td>L3</td>\n",
       "      <td>R1</td>\n",
       "      <td>2018-01-01</td>\n",
       "      <td>1</td>\n",
       "      <td>Yes</td>\n",
       "      <td>9</td>\n",
       "      <td>7011.84</td>\n",
       "    </tr>\n",
       "    <tr>\n",
       "      <th>T1000115</th>\n",
       "      <td>2</td>\n",
       "      <td>S3</td>\n",
       "      <td>L1</td>\n",
       "      <td>R3</td>\n",
       "      <td>2018-01-01</td>\n",
       "      <td>1</td>\n",
       "      <td>Yes</td>\n",
       "      <td>25</td>\n",
       "      <td>18137.52</td>\n",
       "    </tr>\n",
       "    <tr>\n",
       "      <th>T1000128</th>\n",
       "      <td>3</td>\n",
       "      <td>S4</td>\n",
       "      <td>L2</td>\n",
       "      <td>R1</td>\n",
       "      <td>2018-01-01</td>\n",
       "      <td>1</td>\n",
       "      <td>Yes</td>\n",
       "      <td>72</td>\n",
       "      <td>57288.00</td>\n",
       "    </tr>\n",
       "    <tr>\n",
       "      <th>T1000097</th>\n",
       "      <td>4</td>\n",
       "      <td>S1</td>\n",
       "      <td>L1</td>\n",
       "      <td>R2</td>\n",
       "      <td>2018-01-01</td>\n",
       "      <td>1</td>\n",
       "      <td>Yes</td>\n",
       "      <td>80</td>\n",
       "      <td>53615.52</td>\n",
       "    </tr>\n",
       "    <tr>\n",
       "      <th>T1000133</th>\n",
       "      <td>5</td>\n",
       "      <td>S1</td>\n",
       "      <td>L1</td>\n",
       "      <td>R3</td>\n",
       "      <td>2018-01-01</td>\n",
       "      <td>1</td>\n",
       "      <td>Yes</td>\n",
       "      <td>47</td>\n",
       "      <td>36316.08</td>\n",
       "    </tr>\n",
       "  </tbody>\n",
       "</table>\n",
       "</div>"
      ],
      "text/plain": [
       "          Store_id Store_Type Location_Type Region_Code       Date  Holiday  \\\n",
       "ID                                                                            \n",
       "T1000001         1         S1            L3          R1 2018-01-01        1   \n",
       "T1000115         2         S3            L1          R3 2018-01-01        1   \n",
       "T1000128         3         S4            L2          R1 2018-01-01        1   \n",
       "T1000097         4         S1            L1          R2 2018-01-01        1   \n",
       "T1000133         5         S1            L1          R3 2018-01-01        1   \n",
       "\n",
       "         Discount  #Order     Sales  \n",
       "ID                                   \n",
       "T1000001      Yes       9   7011.84  \n",
       "T1000115      Yes      25  18137.52  \n",
       "T1000128      Yes      72  57288.00  \n",
       "T1000097      Yes      80  53615.52  \n",
       "T1000133      Yes      47  36316.08  "
      ]
     },
     "execution_count": 18,
     "metadata": {},
     "output_type": "execute_result"
    }
   ],
   "source": [
    "data.head()"
   ]
  },
  {
   "cell_type": "code",
   "execution_count": 19,
   "id": "d2f4c296",
   "metadata": {},
   "outputs": [
    {
     "data": {
      "text/plain": [
       "S1    88752\n",
       "S4    45924\n",
       "S2    28896\n",
       "S3    24768\n",
       "Name: Store_Type, dtype: int64"
      ]
     },
     "execution_count": 19,
     "metadata": {},
     "output_type": "execute_result"
    }
   ],
   "source": [
    "data.Store_Type.value_counts()"
   ]
  },
  {
   "cell_type": "code",
   "execution_count": 20,
   "id": "bab8e692",
   "metadata": {},
   "outputs": [
    {
     "data": {
      "text/plain": [
       "L1    85140\n",
       "L2    48504\n",
       "L3    29928\n",
       "L5    13932\n",
       "L4    10836\n",
       "Name: Location_Type, dtype: int64"
      ]
     },
     "execution_count": 20,
     "metadata": {},
     "output_type": "execute_result"
    }
   ],
   "source": [
    "data.Location_Type.value_counts()"
   ]
  },
  {
   "cell_type": "code",
   "execution_count": 21,
   "id": "eff09397",
   "metadata": {},
   "outputs": [
    {
     "data": {
      "text/plain": [
       "R1    63984\n",
       "R2    54180\n",
       "R3    44376\n",
       "R4    25800\n",
       "Name: Region_Code, dtype: int64"
      ]
     },
     "execution_count": 21,
     "metadata": {},
     "output_type": "execute_result"
    }
   ],
   "source": [
    "data.Region_Code.value_counts()"
   ]
  },
  {
   "cell_type": "code",
   "execution_count": 22,
   "id": "267fbb40",
   "metadata": {},
   "outputs": [
    {
     "name": "stdout",
     "output_type": "stream",
     "text": [
      "(133225, 9)\n",
      "(55115, 9)\n"
     ]
    }
   ],
   "source": [
    "train      = data[data['Date']<= datetime(2018,12,31)]\n",
    "validation = data[data['Date']> datetime(2018,12,31)]\n",
    "\n",
    "print(train.shape)\n",
    "print(validation.shape)"
   ]
  },
  {
   "cell_type": "code",
   "execution_count": 23,
   "id": "07efe363",
   "metadata": {},
   "outputs": [],
   "source": [
    "# Average sales by store_id\n",
    "avg_sales_by_store_id = train.groupby([\"Store_id\"])[\"Sales\"].median().to_dict()"
   ]
  },
  {
   "cell_type": "code",
   "execution_count": 24,
   "id": "235e4460",
   "metadata": {},
   "outputs": [],
   "source": [
    "train[\"Store_id\"].replace(avg_sales_by_store_id, inplace=True)"
   ]
  },
  {
   "cell_type": "code",
   "execution_count": 25,
   "id": "75458d95",
   "metadata": {},
   "outputs": [],
   "source": [
    "train[\"Discount\"].replace({'Yes':1,'No':0}, inplace=True)"
   ]
  },
  {
   "cell_type": "code",
   "execution_count": 26,
   "id": "461d71fb",
   "metadata": {},
   "outputs": [],
   "source": [
    "def encode_and_bind(original_dataframe, feature_to_encode):\n",
    "    dummies = pd.get_dummies(original_dataframe[[feature_to_encode]],drop_first=True)\n",
    "    res = pd.concat([original_dataframe, dummies], axis=1)\n",
    "    return(res)\n",
    "\n",
    "train = encode_and_bind(train,\"Store_Type\")\n",
    "train = encode_and_bind(train,\"Location_Type\")\n",
    "train = encode_and_bind(train,\"Region_Code\")\n",
    "\n",
    "train.drop([\"Store_Type\",\"Location_Type\", \"Region_Code\"],axis=1,inplace=True)"
   ]
  },
  {
   "cell_type": "code",
   "execution_count": 27,
   "id": "083a047a",
   "metadata": {},
   "outputs": [
    {
     "data": {
      "text/html": [
       "<div>\n",
       "<style scoped>\n",
       "    .dataframe tbody tr th:only-of-type {\n",
       "        vertical-align: middle;\n",
       "    }\n",
       "\n",
       "    .dataframe tbody tr th {\n",
       "        vertical-align: top;\n",
       "    }\n",
       "\n",
       "    .dataframe thead th {\n",
       "        text-align: right;\n",
       "    }\n",
       "</style>\n",
       "<table border=\"1\" class=\"dataframe\">\n",
       "  <thead>\n",
       "    <tr style=\"text-align: right;\">\n",
       "      <th></th>\n",
       "      <th>Store_id</th>\n",
       "      <th>Date</th>\n",
       "      <th>Holiday</th>\n",
       "      <th>Discount</th>\n",
       "      <th>#Order</th>\n",
       "      <th>Sales</th>\n",
       "      <th>Store_Type_S2</th>\n",
       "      <th>Store_Type_S3</th>\n",
       "      <th>Store_Type_S4</th>\n",
       "      <th>Location_Type_L2</th>\n",
       "      <th>Location_Type_L3</th>\n",
       "      <th>Location_Type_L4</th>\n",
       "      <th>Location_Type_L5</th>\n",
       "      <th>Region_Code_R2</th>\n",
       "      <th>Region_Code_R3</th>\n",
       "      <th>Region_Code_R4</th>\n",
       "    </tr>\n",
       "    <tr>\n",
       "      <th>ID</th>\n",
       "      <th></th>\n",
       "      <th></th>\n",
       "      <th></th>\n",
       "      <th></th>\n",
       "      <th></th>\n",
       "      <th></th>\n",
       "      <th></th>\n",
       "      <th></th>\n",
       "      <th></th>\n",
       "      <th></th>\n",
       "      <th></th>\n",
       "      <th></th>\n",
       "      <th></th>\n",
       "      <th></th>\n",
       "      <th></th>\n",
       "      <th></th>\n",
       "    </tr>\n",
       "  </thead>\n",
       "  <tbody>\n",
       "    <tr>\n",
       "      <th>T1000001</th>\n",
       "      <td>34206.0</td>\n",
       "      <td>2018-01-01</td>\n",
       "      <td>1</td>\n",
       "      <td>1</td>\n",
       "      <td>9</td>\n",
       "      <td>7011.84</td>\n",
       "      <td>0</td>\n",
       "      <td>0</td>\n",
       "      <td>0</td>\n",
       "      <td>0</td>\n",
       "      <td>1</td>\n",
       "      <td>0</td>\n",
       "      <td>0</td>\n",
       "      <td>0</td>\n",
       "      <td>0</td>\n",
       "      <td>0</td>\n",
       "    </tr>\n",
       "    <tr>\n",
       "      <th>T1000115</th>\n",
       "      <td>45045.0</td>\n",
       "      <td>2018-01-01</td>\n",
       "      <td>1</td>\n",
       "      <td>1</td>\n",
       "      <td>25</td>\n",
       "      <td>18137.52</td>\n",
       "      <td>0</td>\n",
       "      <td>1</td>\n",
       "      <td>0</td>\n",
       "      <td>0</td>\n",
       "      <td>0</td>\n",
       "      <td>0</td>\n",
       "      <td>0</td>\n",
       "      <td>0</td>\n",
       "      <td>1</td>\n",
       "      <td>0</td>\n",
       "    </tr>\n",
       "    <tr>\n",
       "      <th>T1000128</th>\n",
       "      <td>59613.0</td>\n",
       "      <td>2018-01-01</td>\n",
       "      <td>1</td>\n",
       "      <td>1</td>\n",
       "      <td>72</td>\n",
       "      <td>57288.00</td>\n",
       "      <td>0</td>\n",
       "      <td>0</td>\n",
       "      <td>1</td>\n",
       "      <td>1</td>\n",
       "      <td>0</td>\n",
       "      <td>0</td>\n",
       "      <td>0</td>\n",
       "      <td>0</td>\n",
       "      <td>0</td>\n",
       "      <td>0</td>\n",
       "    </tr>\n",
       "    <tr>\n",
       "      <th>T1000097</th>\n",
       "      <td>38220.0</td>\n",
       "      <td>2018-01-01</td>\n",
       "      <td>1</td>\n",
       "      <td>1</td>\n",
       "      <td>80</td>\n",
       "      <td>53615.52</td>\n",
       "      <td>0</td>\n",
       "      <td>0</td>\n",
       "      <td>0</td>\n",
       "      <td>0</td>\n",
       "      <td>0</td>\n",
       "      <td>0</td>\n",
       "      <td>0</td>\n",
       "      <td>1</td>\n",
       "      <td>0</td>\n",
       "      <td>0</td>\n",
       "    </tr>\n",
       "    <tr>\n",
       "      <th>T1000133</th>\n",
       "      <td>41928.0</td>\n",
       "      <td>2018-01-01</td>\n",
       "      <td>1</td>\n",
       "      <td>1</td>\n",
       "      <td>47</td>\n",
       "      <td>36316.08</td>\n",
       "      <td>0</td>\n",
       "      <td>0</td>\n",
       "      <td>0</td>\n",
       "      <td>0</td>\n",
       "      <td>0</td>\n",
       "      <td>0</td>\n",
       "      <td>0</td>\n",
       "      <td>0</td>\n",
       "      <td>1</td>\n",
       "      <td>0</td>\n",
       "    </tr>\n",
       "  </tbody>\n",
       "</table>\n",
       "</div>"
      ],
      "text/plain": [
       "          Store_id       Date  Holiday  Discount  #Order     Sales  \\\n",
       "ID                                                                   \n",
       "T1000001   34206.0 2018-01-01        1         1       9   7011.84   \n",
       "T1000115   45045.0 2018-01-01        1         1      25  18137.52   \n",
       "T1000128   59613.0 2018-01-01        1         1      72  57288.00   \n",
       "T1000097   38220.0 2018-01-01        1         1      80  53615.52   \n",
       "T1000133   41928.0 2018-01-01        1         1      47  36316.08   \n",
       "\n",
       "          Store_Type_S2  Store_Type_S3  Store_Type_S4  Location_Type_L2  \\\n",
       "ID                                                                        \n",
       "T1000001              0              0              0                 0   \n",
       "T1000115              0              1              0                 0   \n",
       "T1000128              0              0              1                 1   \n",
       "T1000097              0              0              0                 0   \n",
       "T1000133              0              0              0                 0   \n",
       "\n",
       "          Location_Type_L3  Location_Type_L4  Location_Type_L5  \\\n",
       "ID                                                               \n",
       "T1000001                 1                 0                 0   \n",
       "T1000115                 0                 0                 0   \n",
       "T1000128                 0                 0                 0   \n",
       "T1000097                 0                 0                 0   \n",
       "T1000133                 0                 0                 0   \n",
       "\n",
       "          Region_Code_R2  Region_Code_R3  Region_Code_R4  \n",
       "ID                                                        \n",
       "T1000001               0               0               0  \n",
       "T1000115               0               1               0  \n",
       "T1000128               0               0               0  \n",
       "T1000097               1               0               0  \n",
       "T1000133               0               1               0  "
      ]
     },
     "execution_count": 27,
     "metadata": {},
     "output_type": "execute_result"
    }
   ],
   "source": [
    "train.head()"
   ]
  },
  {
   "cell_type": "markdown",
   "id": "e0bae128",
   "metadata": {},
   "source": [
    "## Feature Engineering"
   ]
  },
  {
   "cell_type": "code",
   "execution_count": 30,
   "id": "ca7437fa",
   "metadata": {},
   "outputs": [
    {
     "ename": "AttributeError",
     "evalue": "module 'numpy' has no attribute 'matrix'",
     "output_type": "error",
     "traceback": [
      "\u001b[1;31m---------------------------------------------------------------------------\u001b[0m",
      "\u001b[1;31mKeyError\u001b[0m                                  Traceback (most recent call last)",
      "\u001b[1;32m~\\anaconda3\\lib\\site-packages\\pandas\\core\\indexes\\base.py\u001b[0m in \u001b[0;36mget_loc\u001b[1;34m(self, key, method, tolerance)\u001b[0m\n\u001b[0;32m   3360\u001b[0m             \u001b[1;32mtry\u001b[0m\u001b[1;33m:\u001b[0m\u001b[1;33m\u001b[0m\u001b[1;33m\u001b[0m\u001b[0m\n\u001b[1;32m-> 3361\u001b[1;33m                 \u001b[1;32mreturn\u001b[0m \u001b[0mself\u001b[0m\u001b[1;33m.\u001b[0m\u001b[0m_engine\u001b[0m\u001b[1;33m.\u001b[0m\u001b[0mget_loc\u001b[0m\u001b[1;33m(\u001b[0m\u001b[0mcasted_key\u001b[0m\u001b[1;33m)\u001b[0m\u001b[1;33m\u001b[0m\u001b[1;33m\u001b[0m\u001b[0m\n\u001b[0m\u001b[0;32m   3362\u001b[0m             \u001b[1;32mexcept\u001b[0m \u001b[0mKeyError\u001b[0m \u001b[1;32mas\u001b[0m \u001b[0merr\u001b[0m\u001b[1;33m:\u001b[0m\u001b[1;33m\u001b[0m\u001b[1;33m\u001b[0m\u001b[0m\n",
      "\u001b[1;32m~\\anaconda3\\lib\\site-packages\\pandas\\_libs\\index.pyx\u001b[0m in \u001b[0;36mpandas._libs.index.IndexEngine.get_loc\u001b[1;34m()\u001b[0m\n",
      "\u001b[1;32m~\\anaconda3\\lib\\site-packages\\pandas\\_libs\\index.pyx\u001b[0m in \u001b[0;36mpandas._libs.index.IndexEngine.get_loc\u001b[1;34m()\u001b[0m\n",
      "\u001b[1;32mpandas\\_libs\\hashtable_class_helper.pxi\u001b[0m in \u001b[0;36mpandas._libs.hashtable.PyObjectHashTable.get_item\u001b[1;34m()\u001b[0m\n",
      "\u001b[1;32mpandas\\_libs\\hashtable_class_helper.pxi\u001b[0m in \u001b[0;36mpandas._libs.hashtable.PyObjectHashTable.get_item\u001b[1;34m()\u001b[0m\n",
      "\u001b[1;31mKeyError\u001b[0m: 'Month'",
      "\nThe above exception was the direct cause of the following exception:\n",
      "\u001b[1;31mKeyError\u001b[0m                                  Traceback (most recent call last)",
      "\u001b[1;32m~\\anaconda3\\lib\\site-packages\\pandas\\core\\frame.py\u001b[0m in \u001b[0;36m_set_item_mgr\u001b[1;34m(self, key, value)\u001b[0m\n\u001b[0;32m   3745\u001b[0m         \u001b[1;32mtry\u001b[0m\u001b[1;33m:\u001b[0m\u001b[1;33m\u001b[0m\u001b[1;33m\u001b[0m\u001b[0m\n\u001b[1;32m-> 3746\u001b[1;33m             \u001b[0mloc\u001b[0m \u001b[1;33m=\u001b[0m \u001b[0mself\u001b[0m\u001b[1;33m.\u001b[0m\u001b[0m_info_axis\u001b[0m\u001b[1;33m.\u001b[0m\u001b[0mget_loc\u001b[0m\u001b[1;33m(\u001b[0m\u001b[0mkey\u001b[0m\u001b[1;33m)\u001b[0m\u001b[1;33m\u001b[0m\u001b[1;33m\u001b[0m\u001b[0m\n\u001b[0m\u001b[0;32m   3747\u001b[0m         \u001b[1;32mexcept\u001b[0m \u001b[0mKeyError\u001b[0m\u001b[1;33m:\u001b[0m\u001b[1;33m\u001b[0m\u001b[1;33m\u001b[0m\u001b[0m\n",
      "\u001b[1;32m~\\anaconda3\\lib\\site-packages\\pandas\\core\\indexes\\base.py\u001b[0m in \u001b[0;36mget_loc\u001b[1;34m(self, key, method, tolerance)\u001b[0m\n\u001b[0;32m   3362\u001b[0m             \u001b[1;32mexcept\u001b[0m \u001b[0mKeyError\u001b[0m \u001b[1;32mas\u001b[0m \u001b[0merr\u001b[0m\u001b[1;33m:\u001b[0m\u001b[1;33m\u001b[0m\u001b[1;33m\u001b[0m\u001b[0m\n\u001b[1;32m-> 3363\u001b[1;33m                 \u001b[1;32mraise\u001b[0m \u001b[0mKeyError\u001b[0m\u001b[1;33m(\u001b[0m\u001b[0mkey\u001b[0m\u001b[1;33m)\u001b[0m \u001b[1;32mfrom\u001b[0m \u001b[0merr\u001b[0m\u001b[1;33m\u001b[0m\u001b[1;33m\u001b[0m\u001b[0m\n\u001b[0m\u001b[0;32m   3364\u001b[0m \u001b[1;33m\u001b[0m\u001b[0m\n",
      "\u001b[1;31mKeyError\u001b[0m: 'Month'",
      "\nDuring handling of the above exception, another exception occurred:\n",
      "\u001b[1;31mAttributeError\u001b[0m                            Traceback (most recent call last)",
      "\u001b[1;32m<ipython-input-30-e7dd5287a917>\u001b[0m in \u001b[0;36m<module>\u001b[1;34m\u001b[0m\n\u001b[1;32m----> 1\u001b[1;33m \u001b[0mtrain\u001b[0m\u001b[1;33m[\u001b[0m\u001b[1;34m'Month'\u001b[0m\u001b[1;33m]\u001b[0m \u001b[1;33m=\u001b[0m \u001b[0mtrain\u001b[0m\u001b[1;33m[\u001b[0m\u001b[1;34m'Date'\u001b[0m\u001b[1;33m]\u001b[0m\u001b[1;33m.\u001b[0m\u001b[0mdt\u001b[0m\u001b[1;33m.\u001b[0m\u001b[0mmonth\u001b[0m\u001b[1;33m\u001b[0m\u001b[1;33m\u001b[0m\u001b[0m\n\u001b[0m\u001b[0;32m      2\u001b[0m \u001b[0mtrain\u001b[0m\u001b[1;33m[\u001b[0m\u001b[1;34m'Day'\u001b[0m\u001b[1;33m]\u001b[0m \u001b[1;33m=\u001b[0m \u001b[0mtrain\u001b[0m\u001b[1;33m[\u001b[0m\u001b[1;34m'Date'\u001b[0m\u001b[1;33m]\u001b[0m\u001b[1;33m.\u001b[0m\u001b[0mdt\u001b[0m\u001b[1;33m.\u001b[0m\u001b[0mday\u001b[0m\u001b[1;33m\u001b[0m\u001b[1;33m\u001b[0m\u001b[0m\n\u001b[0;32m      3\u001b[0m \u001b[0mtrain\u001b[0m\u001b[1;33m[\u001b[0m\u001b[1;34m'Dayofyear'\u001b[0m\u001b[1;33m]\u001b[0m \u001b[1;33m=\u001b[0m \u001b[0mtrain\u001b[0m\u001b[1;33m[\u001b[0m\u001b[1;34m'Date'\u001b[0m\u001b[1;33m]\u001b[0m\u001b[1;33m.\u001b[0m\u001b[0mdt\u001b[0m\u001b[1;33m.\u001b[0m\u001b[0mdayofyear\u001b[0m\u001b[1;33m\u001b[0m\u001b[1;33m\u001b[0m\u001b[0m\n\u001b[0;32m      4\u001b[0m \u001b[0mtrain\u001b[0m\u001b[1;33m[\u001b[0m\u001b[1;34m'Weekofyear'\u001b[0m\u001b[1;33m]\u001b[0m \u001b[1;33m=\u001b[0m \u001b[0mtrain\u001b[0m\u001b[1;33m[\u001b[0m\u001b[1;34m'Date'\u001b[0m\u001b[1;33m]\u001b[0m\u001b[1;33m.\u001b[0m\u001b[0mdt\u001b[0m\u001b[1;33m.\u001b[0m\u001b[0mweekofyear\u001b[0m\u001b[1;33m\u001b[0m\u001b[1;33m\u001b[0m\u001b[0m\n\u001b[0;32m      5\u001b[0m \u001b[0mtrain\u001b[0m\u001b[1;33m[\u001b[0m\u001b[1;34m'Dayofweek'\u001b[0m\u001b[1;33m]\u001b[0m \u001b[1;33m=\u001b[0m \u001b[0mtrain\u001b[0m\u001b[1;33m[\u001b[0m\u001b[1;34m'Date'\u001b[0m\u001b[1;33m]\u001b[0m\u001b[1;33m.\u001b[0m\u001b[0mdt\u001b[0m\u001b[1;33m.\u001b[0m\u001b[0mdayofweek\u001b[0m\u001b[1;33m\u001b[0m\u001b[1;33m\u001b[0m\u001b[0m\n",
      "\u001b[1;32m~\\anaconda3\\lib\\site-packages\\pandas\\core\\frame.py\u001b[0m in \u001b[0;36m__setitem__\u001b[1;34m(self, key, value)\u001b[0m\n\u001b[0;32m   3605\u001b[0m         \u001b[1;32melse\u001b[0m\u001b[1;33m:\u001b[0m\u001b[1;33m\u001b[0m\u001b[1;33m\u001b[0m\u001b[0m\n\u001b[0;32m   3606\u001b[0m             \u001b[1;31m# set column\u001b[0m\u001b[1;33m\u001b[0m\u001b[1;33m\u001b[0m\u001b[1;33m\u001b[0m\u001b[0m\n\u001b[1;32m-> 3607\u001b[1;33m             \u001b[0mself\u001b[0m\u001b[1;33m.\u001b[0m\u001b[0m_set_item\u001b[0m\u001b[1;33m(\u001b[0m\u001b[0mkey\u001b[0m\u001b[1;33m,\u001b[0m \u001b[0mvalue\u001b[0m\u001b[1;33m)\u001b[0m\u001b[1;33m\u001b[0m\u001b[1;33m\u001b[0m\u001b[0m\n\u001b[0m\u001b[0;32m   3608\u001b[0m \u001b[1;33m\u001b[0m\u001b[0m\n\u001b[0;32m   3609\u001b[0m     \u001b[1;32mdef\u001b[0m \u001b[0m_setitem_slice\u001b[0m\u001b[1;33m(\u001b[0m\u001b[0mself\u001b[0m\u001b[1;33m,\u001b[0m \u001b[0mkey\u001b[0m\u001b[1;33m:\u001b[0m \u001b[0mslice\u001b[0m\u001b[1;33m,\u001b[0m \u001b[0mvalue\u001b[0m\u001b[1;33m)\u001b[0m\u001b[1;33m:\u001b[0m\u001b[1;33m\u001b[0m\u001b[1;33m\u001b[0m\u001b[0m\n",
      "\u001b[1;32m~\\anaconda3\\lib\\site-packages\\pandas\\core\\frame.py\u001b[0m in \u001b[0;36m_set_item\u001b[1;34m(self, key, value)\u001b[0m\n\u001b[0;32m   3790\u001b[0m                     \u001b[0mvalue\u001b[0m \u001b[1;33m=\u001b[0m \u001b[0mnp\u001b[0m\u001b[1;33m.\u001b[0m\u001b[0mtile\u001b[0m\u001b[1;33m(\u001b[0m\u001b[0mvalue\u001b[0m\u001b[1;33m,\u001b[0m \u001b[1;33m(\u001b[0m\u001b[0mlen\u001b[0m\u001b[1;33m(\u001b[0m\u001b[0mexisting_piece\u001b[0m\u001b[1;33m.\u001b[0m\u001b[0mcolumns\u001b[0m\u001b[1;33m)\u001b[0m\u001b[1;33m,\u001b[0m \u001b[1;36m1\u001b[0m\u001b[1;33m)\u001b[0m\u001b[1;33m)\u001b[0m\u001b[1;33m.\u001b[0m\u001b[0mT\u001b[0m\u001b[1;33m\u001b[0m\u001b[1;33m\u001b[0m\u001b[0m\n\u001b[0;32m   3791\u001b[0m \u001b[1;33m\u001b[0m\u001b[0m\n\u001b[1;32m-> 3792\u001b[1;33m         \u001b[0mself\u001b[0m\u001b[1;33m.\u001b[0m\u001b[0m_set_item_mgr\u001b[0m\u001b[1;33m(\u001b[0m\u001b[0mkey\u001b[0m\u001b[1;33m,\u001b[0m \u001b[0mvalue\u001b[0m\u001b[1;33m)\u001b[0m\u001b[1;33m\u001b[0m\u001b[1;33m\u001b[0m\u001b[0m\n\u001b[0m\u001b[0;32m   3793\u001b[0m \u001b[1;33m\u001b[0m\u001b[0m\n\u001b[0;32m   3794\u001b[0m     def _set_value(\n",
      "\u001b[1;32m~\\anaconda3\\lib\\site-packages\\pandas\\core\\frame.py\u001b[0m in \u001b[0;36m_set_item_mgr\u001b[1;34m(self, key, value)\u001b[0m\n\u001b[0;32m   3747\u001b[0m         \u001b[1;32mexcept\u001b[0m \u001b[0mKeyError\u001b[0m\u001b[1;33m:\u001b[0m\u001b[1;33m\u001b[0m\u001b[1;33m\u001b[0m\u001b[0m\n\u001b[0;32m   3748\u001b[0m             \u001b[1;31m# This item wasn't present, just insert at end\u001b[0m\u001b[1;33m\u001b[0m\u001b[1;33m\u001b[0m\u001b[1;33m\u001b[0m\u001b[0m\n\u001b[1;32m-> 3749\u001b[1;33m             \u001b[0mself\u001b[0m\u001b[1;33m.\u001b[0m\u001b[0m_mgr\u001b[0m\u001b[1;33m.\u001b[0m\u001b[0minsert\u001b[0m\u001b[1;33m(\u001b[0m\u001b[0mlen\u001b[0m\u001b[1;33m(\u001b[0m\u001b[0mself\u001b[0m\u001b[1;33m.\u001b[0m\u001b[0m_info_axis\u001b[0m\u001b[1;33m)\u001b[0m\u001b[1;33m,\u001b[0m \u001b[0mkey\u001b[0m\u001b[1;33m,\u001b[0m \u001b[0mvalue\u001b[0m\u001b[1;33m)\u001b[0m\u001b[1;33m\u001b[0m\u001b[1;33m\u001b[0m\u001b[0m\n\u001b[0m\u001b[0;32m   3750\u001b[0m         \u001b[1;32melse\u001b[0m\u001b[1;33m:\u001b[0m\u001b[1;33m\u001b[0m\u001b[1;33m\u001b[0m\u001b[0m\n\u001b[0;32m   3751\u001b[0m             \u001b[0mself\u001b[0m\u001b[1;33m.\u001b[0m\u001b[0m_iset_item_mgr\u001b[0m\u001b[1;33m(\u001b[0m\u001b[0mloc\u001b[0m\u001b[1;33m,\u001b[0m \u001b[0mvalue\u001b[0m\u001b[1;33m)\u001b[0m\u001b[1;33m\u001b[0m\u001b[1;33m\u001b[0m\u001b[0m\n",
      "\u001b[1;32m~\\anaconda3\\lib\\site-packages\\pandas\\core\\internals\\managers.py\u001b[0m in \u001b[0;36minsert\u001b[1;34m(self, loc, item, value)\u001b[0m\n\u001b[0;32m   1167\u001b[0m         \u001b[1;32mif\u001b[0m \u001b[0mloc\u001b[0m \u001b[1;33m==\u001b[0m \u001b[0mself\u001b[0m\u001b[1;33m.\u001b[0m\u001b[0mblklocs\u001b[0m\u001b[1;33m.\u001b[0m\u001b[0mshape\u001b[0m\u001b[1;33m[\u001b[0m\u001b[1;36m0\u001b[0m\u001b[1;33m]\u001b[0m\u001b[1;33m:\u001b[0m\u001b[1;33m\u001b[0m\u001b[1;33m\u001b[0m\u001b[0m\n\u001b[0;32m   1168\u001b[0m             \u001b[1;31m# np.append is a lot faster, let's use it if we can.\u001b[0m\u001b[1;33m\u001b[0m\u001b[1;33m\u001b[0m\u001b[1;33m\u001b[0m\u001b[0m\n\u001b[1;32m-> 1169\u001b[1;33m             \u001b[0mself\u001b[0m\u001b[1;33m.\u001b[0m\u001b[0m_blklocs\u001b[0m \u001b[1;33m=\u001b[0m \u001b[0mnp\u001b[0m\u001b[1;33m.\u001b[0m\u001b[0mappend\u001b[0m\u001b[1;33m(\u001b[0m\u001b[0mself\u001b[0m\u001b[1;33m.\u001b[0m\u001b[0m_blklocs\u001b[0m\u001b[1;33m,\u001b[0m \u001b[1;36m0\u001b[0m\u001b[1;33m)\u001b[0m\u001b[1;33m\u001b[0m\u001b[1;33m\u001b[0m\u001b[0m\n\u001b[0m\u001b[0;32m   1170\u001b[0m             \u001b[0mself\u001b[0m\u001b[1;33m.\u001b[0m\u001b[0m_blknos\u001b[0m \u001b[1;33m=\u001b[0m \u001b[0mnp\u001b[0m\u001b[1;33m.\u001b[0m\u001b[0mappend\u001b[0m\u001b[1;33m(\u001b[0m\u001b[0mself\u001b[0m\u001b[1;33m.\u001b[0m\u001b[0m_blknos\u001b[0m\u001b[1;33m,\u001b[0m \u001b[0mlen\u001b[0m\u001b[1;33m(\u001b[0m\u001b[0mself\u001b[0m\u001b[1;33m.\u001b[0m\u001b[0mblocks\u001b[0m\u001b[1;33m)\u001b[0m\u001b[1;33m)\u001b[0m\u001b[1;33m\u001b[0m\u001b[1;33m\u001b[0m\u001b[0m\n\u001b[0;32m   1171\u001b[0m         \u001b[1;32melse\u001b[0m\u001b[1;33m:\u001b[0m\u001b[1;33m\u001b[0m\u001b[1;33m\u001b[0m\u001b[0m\n",
      "\u001b[1;32m<__array_function__ internals>\u001b[0m in \u001b[0;36mappend\u001b[1;34m(*args, **kwargs)\u001b[0m\n",
      "\u001b[1;32m~\\anaconda3\\lib\\site-packages\\numpy\\lib\\function_base.py\u001b[0m in \u001b[0;36mappend\u001b[1;34m(arr, values, axis)\u001b[0m\n\u001b[0;32m   4741\u001b[0m         \u001b[1;32mif\u001b[0m \u001b[0marr\u001b[0m\u001b[1;33m.\u001b[0m\u001b[0mndim\u001b[0m \u001b[1;33m!=\u001b[0m \u001b[1;36m1\u001b[0m\u001b[1;33m:\u001b[0m\u001b[1;33m\u001b[0m\u001b[1;33m\u001b[0m\u001b[0m\n\u001b[0;32m   4742\u001b[0m             \u001b[0marr\u001b[0m \u001b[1;33m=\u001b[0m \u001b[0marr\u001b[0m\u001b[1;33m.\u001b[0m\u001b[0mravel\u001b[0m\u001b[1;33m(\u001b[0m\u001b[1;33m)\u001b[0m\u001b[1;33m\u001b[0m\u001b[1;33m\u001b[0m\u001b[0m\n\u001b[1;32m-> 4743\u001b[1;33m         \u001b[0mvalues\u001b[0m \u001b[1;33m=\u001b[0m \u001b[0mravel\u001b[0m\u001b[1;33m(\u001b[0m\u001b[0mvalues\u001b[0m\u001b[1;33m)\u001b[0m\u001b[1;33m\u001b[0m\u001b[1;33m\u001b[0m\u001b[0m\n\u001b[0m\u001b[0;32m   4744\u001b[0m         \u001b[0maxis\u001b[0m \u001b[1;33m=\u001b[0m \u001b[0marr\u001b[0m\u001b[1;33m.\u001b[0m\u001b[0mndim\u001b[0m\u001b[1;33m-\u001b[0m\u001b[1;36m1\u001b[0m\u001b[1;33m\u001b[0m\u001b[1;33m\u001b[0m\u001b[0m\n\u001b[0;32m   4745\u001b[0m     \u001b[1;32mreturn\u001b[0m \u001b[0mconcatenate\u001b[0m\u001b[1;33m(\u001b[0m\u001b[1;33m(\u001b[0m\u001b[0marr\u001b[0m\u001b[1;33m,\u001b[0m \u001b[0mvalues\u001b[0m\u001b[1;33m)\u001b[0m\u001b[1;33m,\u001b[0m \u001b[0maxis\u001b[0m\u001b[1;33m=\u001b[0m\u001b[0maxis\u001b[0m\u001b[1;33m)\u001b[0m\u001b[1;33m\u001b[0m\u001b[1;33m\u001b[0m\u001b[0m\n",
      "\u001b[1;32m<__array_function__ internals>\u001b[0m in \u001b[0;36mravel\u001b[1;34m(*args, **kwargs)\u001b[0m\n",
      "\u001b[1;32m~\\anaconda3\\lib\\site-packages\\numpy\\core\\fromnumeric.py\u001b[0m in \u001b[0;36mravel\u001b[1;34m(a, order)\u001b[0m\n\u001b[0;32m   1815\u001b[0m \u001b[1;33m\u001b[0m\u001b[0m\n\u001b[0;32m   1816\u001b[0m     \"\"\"\n\u001b[1;32m-> 1817\u001b[1;33m     \u001b[1;32mif\u001b[0m \u001b[0misinstance\u001b[0m\u001b[1;33m(\u001b[0m\u001b[0ma\u001b[0m\u001b[1;33m,\u001b[0m \u001b[0mnp\u001b[0m\u001b[1;33m.\u001b[0m\u001b[0mmatrix\u001b[0m\u001b[1;33m)\u001b[0m\u001b[1;33m:\u001b[0m\u001b[1;33m\u001b[0m\u001b[1;33m\u001b[0m\u001b[0m\n\u001b[0m\u001b[0;32m   1818\u001b[0m         \u001b[1;32mreturn\u001b[0m \u001b[0masarray\u001b[0m\u001b[1;33m(\u001b[0m\u001b[0ma\u001b[0m\u001b[1;33m)\u001b[0m\u001b[1;33m.\u001b[0m\u001b[0mravel\u001b[0m\u001b[1;33m(\u001b[0m\u001b[0morder\u001b[0m\u001b[1;33m=\u001b[0m\u001b[0morder\u001b[0m\u001b[1;33m)\u001b[0m\u001b[1;33m\u001b[0m\u001b[1;33m\u001b[0m\u001b[0m\n\u001b[0;32m   1819\u001b[0m     \u001b[1;32melse\u001b[0m\u001b[1;33m:\u001b[0m\u001b[1;33m\u001b[0m\u001b[1;33m\u001b[0m\u001b[0m\n",
      "\u001b[1;31mAttributeError\u001b[0m: module 'numpy' has no attribute 'matrix'"
     ]
    }
   ],
   "source": [
    "train['Month'] = train['Date'].dt.month\n",
    "train['Day'] = train['Date'].dt.day\n",
    "train['Dayofyear'] = train['Date'].dt.dayofyear\n",
    "train['Weekofyear'] = train['Date'].dt.weekofyear\n",
    "train['Dayofweek'] = train['Date'].dt.dayofweek\n",
    "train['is_month_start'] = train['Date'].dt.is_month_start.astype(int)\n",
    "train['is_month_end'] = train['Date'].dt.is_month_end.astype(int)\n",
    "train['is_quarter_start'] = train['Date'].dt.is_quarter_start.astype(int)\n",
    "train['is_quarter_end'] = train['Date'].dt.is_quarter_end.astype(int)"
   ]
  },
  {
   "cell_type": "code",
   "execution_count": null,
   "id": "5c41b323",
   "metadata": {},
   "outputs": [],
   "source": [
    "train.drop(['Date', '#Order'], axis=1, inplace=True)"
   ]
  },
  {
   "cell_type": "code",
   "execution_count": null,
   "id": "6bcad514",
   "metadata": {},
   "outputs": [],
   "source": [
    "train.head()"
   ]
  },
  {
   "cell_type": "code",
   "execution_count": null,
   "id": "84578238",
   "metadata": {},
   "outputs": [],
   "source": [
    "sns.distplot(train['Store_id'])"
   ]
  },
  {
   "cell_type": "code",
   "execution_count": null,
   "id": "00bb4c0a",
   "metadata": {},
   "outputs": [],
   "source": [
    "#sns.pairplot(train,corner=True,diag_kind='kde')\n",
    "sns.distplot(train['Sales'])"
   ]
  },
  {
   "cell_type": "code",
   "execution_count": null,
   "id": "83d30466",
   "metadata": {},
   "outputs": [],
   "source": [
    "from sklearn.preprocessing import PowerTransformer\n",
    "pt = PowerTransformer(method='yeo-johnson')\n",
    "\n",
    "sales_transform = pt.fit_transform(train['Sales'].values[:,np.newaxis])\n",
    "sns.distplot(sales_transform)"
   ]
  },
  {
   "cell_type": "code",
   "execution_count": null,
   "id": "89a538a1",
   "metadata": {},
   "outputs": [],
   "source": [
    "storeid_transform = pt.fit_transform(train['Store_id']\n",
    "sns.distplot(storeid_transform)"
   ]
  },
  {
   "cell_type": "code",
   "execution_count": null,
   "id": "b9dfe010",
   "metadata": {},
   "outputs": [],
   "source": [
    "train[\"Store_id\"]=storeid_transform"
   ]
  },
  {
   "cell_type": "code",
   "execution_count": null,
   "id": "74dac04a",
   "metadata": {},
   "outputs": [],
   "source": [
    "y_train = pd.Series(np.ravel(sales_transform), index=train.index)\n",
    "X_train =train.loc[:,train.columns !='Sales']"
   ]
  },
  {
   "cell_type": "code",
   "execution_count": null,
   "id": "581aacae",
   "metadata": {},
   "outputs": [],
   "source": [
    "X_train.head()"
   ]
  },
  {
   "cell_type": "code",
   "execution_count": null,
   "id": "fc1530b7",
   "metadata": {},
   "outputs": [],
   "source": [
    "y_train.head()"
   ]
  },
  {
   "cell_type": "markdown",
   "id": "bef5fbf6",
   "metadata": {},
   "source": [
    "## Model Building"
   ]
  },
  {
   "cell_type": "code",
   "execution_count": null,
   "id": "9411ff21",
   "metadata": {},
   "outputs": [],
   "source": [
    "from sklearn.feature_selection import RFE,RFECV\n",
    "from sklearn.linear_model import LinearRegression"
   ]
  },
  {
   "cell_type": "code",
   "execution_count": null,
   "id": "a902bd72",
   "metadata": {},
   "outputs": [],
   "source": [
    "#Create a linear regression estimator \n",
    "\n",
    "linreg = LinearRegression()\n",
    "\n",
    "#Use RFECV to pick best features, using Stratified Kfold\n",
    "rfecv =   RFECV(linreg, cv=5, scoring='neg_mean_squared_error',verbose = 1,n_jobs=-1)"
   ]
  },
  {
   "cell_type": "code",
   "execution_count": null,
   "id": "1506f705",
   "metadata": {},
   "outputs": [],
   "source": [
    "\n",
    "selector = rfecv.fit(X_train, y_train)\n",
    "selector.support_"
   ]
  },
  {
   "cell_type": "code",
   "execution_count": null,
   "id": "baf8a92f",
   "metadata": {},
   "outputs": [],
   "source": [
    "list(zip(X_train.columns,selector.support_,selector.ranking_))"
   ]
  },
  {
   "cell_type": "code",
   "execution_count": null,
   "id": "5cb66bce",
   "metadata": {},
   "outputs": [],
   "source": [
    "print(\"Optimal number of features from RFECV :\")\n",
    "print(selector.n_features_)"
   ]
  },
  {
   "cell_type": "code",
   "execution_count": null,
   "id": "300e6238",
   "metadata": {},
   "outputs": [],
   "source": [
    "from sklearn.tree import DecisionTreeRegressor\n",
    "reg = DecisionTreeRegressor()\n",
    "reg.fit(X_train, y_train)\n",
    "\n",
    "feat_imp = pd.Series(reg.feature_importances_, index=X_train.columns).sort_values(ascending=False)\n",
    "\n",
    "feat_imp.plot.bar(color='steelblue', figsize=(12, 6))"
   ]
  },
  {
   "cell_type": "code",
   "execution_count": null,
   "id": "d101b7b7",
   "metadata": {},
   "outputs": [],
   "source": [
    "from sklearn.ensemble import RandomForestRegressor\n",
    "rand_reg = RandomForestRegressor(n_estimators = 100, max_depth=5)\n",
    "rand_reg.fit(X_train, y_train)\n",
    "\n",
    "rand_feat_imp = pd.Series(rand_reg.feature_importances_, index=X_train.columns).sort_values(ascending=False)\n",
    "\n",
    "rand_feat_imp.plot.bar(color='steelblue', figsize=(12, 6))"
   ]
  },
  {
   "cell_type": "code",
   "execution_count": null,
   "id": "7ca93915",
   "metadata": {},
   "outputs": [],
   "source": [
    "import statsmodels.api as sm\n",
    "from statsmodels.stats.outliers_influence import variance_inflation_factor"
   ]
  },
  {
   "cell_type": "code",
   "execution_count": null,
   "id": "68c449ed",
   "metadata": {},
   "outputs": [],
   "source": [
    "X_train_col=X_train.copy()"
   ]
  },
  {
   "cell_type": "code",
   "execution_count": null,
   "id": "062a3762",
   "metadata": {},
   "outputs": [],
   "source": [
    "vif = pd.DataFrame()\n",
    "X = X_train_col\n",
    "vif['Features'] = X.columns\n",
    "vif['VIF'] = [variance_inflation_factor(X.values, i) for i in range(X.shape[1])]\n",
    "vif['VIF'] = round(vif['VIF'], 2)\n",
    "vif = vif.sort_values(by = \"VIF\", ascending = False)\n",
    "vif "
   ]
  },
  {
   "cell_type": "code",
   "execution_count": null,
   "id": "ac6fe7ba",
   "metadata": {},
   "outputs": [],
   "source": [
    "X_train_col.drop('Month',axis=1, inplace=True)\n",
    "vif = pd.DataFrame()\n",
    "X = X_train_col\n",
    "vif['Features'] = X.columns\n",
    "vif['VIF'] = [variance_inflation_factor(X.values, i) for i in range(X.shape[1])]\n",
    "vif['VIF'] = round(vif['VIF'], 2)\n",
    "vif = vif.sort_values(by = \"VIF\", ascending = False)\n",
    "vif"
   ]
  },
  {
   "cell_type": "code",
   "execution_count": null,
   "id": "cd890b82",
   "metadata": {},
   "outputs": [],
   "source": [
    "X_train_col.drop('Weekofyear',axis=1, inplace=True)\n",
    "vif = pd.DataFrame()\n",
    "X = X_train_col\n",
    "vif['Features'] = X.columns\n",
    "vif['VIF'] = [variance_inflation_factor(X.values, i) for i in range(X.shape[1])]\n",
    "vif['VIF'] = round(vif['VIF'], 2)\n",
    "vif = vif.sort_values(by = \"VIF\", ascending = False)\n",
    "vif"
   ]
  },
  {
   "cell_type": "code",
   "execution_count": null,
   "id": "69f77c06",
   "metadata": {},
   "outputs": [],
   "source": [
    "\n",
    "X_train_1=sm.add_constant(X_train_col)    # Adding constant\n",
    "X_train_1.shape"
   ]
  },
  {
   "cell_type": "code",
   "execution_count": null,
   "id": "6a933362",
   "metadata": {},
   "outputs": [],
   "source": [
    "lm_1 = sm.OLS(y_train,X_train_1).fit()\n",
    "print(lm_1.summary())"
   ]
  },
  {
   "cell_type": "code",
   "execution_count": null,
   "id": "1dc99ccf",
   "metadata": {},
   "outputs": [],
   "source": [
    "#Removing kw_max_min and building model\n",
    "X_train_2=X_train_1.drop('Region_Code_R3', axis=1)   "
   ]
  },
  {
   "cell_type": "markdown",
   "id": "5e3c5f1d",
   "metadata": {},
   "source": [
    "### Model 2"
   ]
  },
  {
   "cell_type": "code",
   "execution_count": null,
   "id": "c849cd6d",
   "metadata": {},
   "outputs": [],
   "source": [
    "lm_2 = sm.OLS(y_train,X_train_2).fit()\n",
    "print(lm_2.summary())"
   ]
  },
  {
   "cell_type": "code",
   "execution_count": null,
   "id": "0a87be37",
   "metadata": {},
   "outputs": [],
   "source": [
    "#Removing kw_max_min and building model\n",
    "X_train_3=X_train_2.drop('Region_Code_R2', axis=1)   "
   ]
  },
  {
   "cell_type": "markdown",
   "id": "6410086b",
   "metadata": {},
   "source": [
    "### Model 3"
   ]
  },
  {
   "cell_type": "code",
   "execution_count": null,
   "id": "cf403b16",
   "metadata": {},
   "outputs": [],
   "source": [
    "lm_3 = sm.OLS(y_train,X_train_3).fit()\n",
    "print(lm_3.summary())"
   ]
  },
  {
   "cell_type": "code",
   "execution_count": null,
   "id": "6fdb1106",
   "metadata": {},
   "outputs": [],
   "source": [
    "#Predict values\n",
    "y_train_pred_scaled = lm_3.predict(X_train_3)"
   ]
  },
  {
   "cell_type": "code",
   "execution_count": null,
   "id": "df39074a",
   "metadata": {},
   "outputs": [],
   "source": [
    "y_train_scaled_arr = y_train.values.ravel()\n",
    "print(y_train_scaled_arr.shape)"
   ]
  },
  {
   "cell_type": "code",
   "execution_count": null,
   "id": "19285909",
   "metadata": {},
   "outputs": [],
   "source": [
    "res=y_train_scaled_arr- y_train_pred_scaled"
   ]
  },
  {
   "cell_type": "code",
   "execution_count": null,
   "id": "92204726",
   "metadata": {},
   "outputs": [],
   "source": [
    "fig = plt.figure()\n",
    "plt.scatter(y_train_pred_scaled,res)\n",
    "fig.suptitle('y_train_pred vs residual', fontsize=20)              # Plot heading \n",
    "plt.xlabel('y_train_pred', fontsize=18)                          # X-label\n",
    "plt.ylabel('residual', fontsize=16) "
   ]
  },
  {
   "cell_type": "code",
   "execution_count": null,
   "id": "44301b14",
   "metadata": {},
   "outputs": [],
   "source": [
    "# Plot the histogram of the error terms\n",
    "fig = plt.figure()\n",
    "sns.distplot((res), bins = 20)\n",
    "fig.suptitle('Error Terms', fontsize = 20)                  # Plot heading \n",
    "plt.xlabel('Errors', fontsize = 18)                         # X-label"
   ]
  },
  {
   "cell_type": "code",
   "execution_count": null,
   "id": "7bb355a7",
   "metadata": {},
   "outputs": [],
   "source": [
    "sm.qqplot(res,line='s')\n",
    "plt.show()"
   ]
  },
  {
   "cell_type": "code",
   "execution_count": null,
   "id": "ee26848c",
   "metadata": {},
   "outputs": [],
   "source": [
    "residual_results=pd.DataFrame()\n",
    "residual_results['Actual'] = y_train\n",
    "residual_results['predicted'] = y_train_pred_scaled.values\n",
    "residual_results['residual'] = residual_results['Actual'] - residual_results['predicted']\n",
    "residual_results['sales']=train['Sales'].values\n",
    "residual_results['predicted_sales'] = pt.inverse_transform(y_train_pred_scaled[:, np.newaxis])"
   ]
  },
  {
   "cell_type": "code",
   "execution_count": null,
   "id": "a7bca63a",
   "metadata": {},
   "outputs": [],
   "source": [
    "residual_results.head()"
   ]
  },
  {
   "cell_type": "code",
   "execution_count": null,
   "id": "82eef767",
   "metadata": {},
   "outputs": [],
   "source": [
    "def regression_results(y_true, y_pred):\n",
    "\n",
    "    # Regression metrics\n",
    "    explained_variance=metrics.explained_variance_score(y_true, y_pred)\n",
    "    mean_absolute_error=metrics.mean_absolute_error(y_true, y_pred) \n",
    "    mse=metrics.mean_squared_error(y_true, y_pred) \n",
    "    median_absolute_error=metrics.median_absolute_error(y_true, y_pred)\n",
    "    r2=metrics.r2_score(y_true, y_pred)\n",
    "    msle = metrics.mean_squared_log_error(y_true,y_pred)\n",
    "\n",
    "    print('explained_variance: ', round(explained_variance,4))    \n",
    "    print('r2: ', round(r2,4))\n",
    "    print('MAE: ', round(mean_absolute_error,4))\n",
    "    print('MSE: ', round(mse,4))\n",
    "    print('RMSE: ', round(np.sqrt(mse),4))\n",
    "    print('MSLE: ', round(msle,4))"
   ]
  },
  {
   "cell_type": "code",
   "execution_count": null,
   "id": "9da6c5b4",
   "metadata": {},
   "outputs": [],
   "source": [
    "regression_results(residual_results['sales'].values, residual_results['predicted_sales'].values)"
   ]
  },
  {
   "cell_type": "code",
   "execution_count": null,
   "id": "28913af6",
   "metadata": {},
   "outputs": [],
   "source": [
    "from sklearn.model_selection import GridSearchCV\n"
   ]
  },
  {
   "cell_type": "code",
   "execution_count": null,
   "id": "554a3b28",
   "metadata": {},
   "outputs": [],
   "source": [
    "from xgboost import XGBRegressor\n",
    "\n",
    "xgbr_pipeline = Pipeline([(\"xgbr_model\", XGBRegressor(objective=\"reg:squarederror\", verbosity=1, \n",
    "                                                      random_state=42, n_jobs=-1))])\n",
    "\n",
    "xgbr_pipeline_params = {\n",
    "                        \"xgbr_model__max_depth\": [5],\n",
    "                        \"xgbr_model__learning_rate\": [0.01,0.1],\n",
    "                    }\n",
    "\n",
    "xgbr_grid_pipeline = GridSearchCV(xgbr_pipeline, xgbr_pipeline_params, scoring= 'neg_mean_squared_error', \n",
    "                        cv = 5, \n",
    "                        return_train_score=True,\n",
    "                        n_jobs=-1,\n",
    "                        verbose = 1)\n",
    "# fit\n",
    "xgbr_grid_pipeline.fit(X_train,y_train)\n",
    "print(xgbr_grid_pipeline.best_params_)\n",
    "xgbr_model = xgbr_grid_pipeline.best_estimator_\n",
    "print(xgbr_grid_pipeline.best_score_)\n"
   ]
  },
  {
   "cell_type": "code",
   "execution_count": null,
   "id": "44866981",
   "metadata": {},
   "outputs": [],
   "source": [
    "y_train_pred_xgbr = xgbr_model.predict(X_train)"
   ]
  },
  {
   "cell_type": "code",
   "execution_count": null,
   "id": "9dfafcbb",
   "metadata": {},
   "outputs": [],
   "source": [
    "xgbr_residual = pd.DataFrame()\n",
    "xgbr_residual['Actual'] = y_train\n",
    "xgbr_residual['predicted'] = y_train_pred_xgbr\n",
    "xgbr_residual['residual'] = xgbr_residual['Actual'] - xgbr_residual['predicted']\n",
    "xgbr_residual['sales'] = train['Sales'].values\n",
    "xgbr_residual['predicted_sales'] =  pt.inverse_transform(y_train_pred_xgbr[:,np.newaxis]).ravel()\n",
    "xgbr_residual.head()"
   ]
  },
  {
   "cell_type": "code",
   "execution_count": null,
   "id": "6ea83f2d",
   "metadata": {},
   "outputs": [],
   "source": [
    "# from sklearn.feature_selection import SelectKBest, f_classif\n",
    "# from sklearn.neighbors import KNeighborsRegressor\n",
    "\n",
    "\n",
    "# knn_pipeline = Pipeline([(\"knn\", KNeighborsRegressor())])\n",
    "\n",
    "# knn_pipeline_params = {'knn__n_neighbors': list(range(40,100,4))}\n",
    "\n",
    "# knn_grid_pipeline = GridSearchCV(knn_pipeline, knn_pipeline_params, scoring= 'neg_mean_squared_error', \n",
    "#                         cv = 5, \n",
    "#                         return_train_score=True,\n",
    "#                         n_jobs=-1,\n",
    "#                         verbose = 1)\n",
    "# # fit\n",
    "# knn_grid_pipeline.fit(X_train, y_train)\n",
    "# print(knn_grid_pipeline.best_params_)\n",
    "# knn_model = knn_grid_pipeline.best_estimator_\n",
    "# print(knn_grid_pipeline.best_score_)\n"
   ]
  },
  {
   "cell_type": "code",
   "execution_count": null,
   "id": "8a308690",
   "metadata": {},
   "outputs": [],
   "source": [
    "# y_train_pred_knn = knn_model.predict(X_train)"
   ]
  },
  {
   "cell_type": "code",
   "execution_count": null,
   "id": "25a07dc9",
   "metadata": {},
   "outputs": [],
   "source": [
    "# knn_residual = pd.DataFrame()\n",
    "# knn_residual['Actual'] = y_train\n",
    "# knn_residual['predicted'] = y_train_pred_knn\n",
    "# knn_residual['residual'] = knn_residual['Actual'] - knn_residual['predicted']\n",
    "# knn_residual['sales'] = train['Sales'].values\n",
    "# knn_residual['predicted_sales'] = pt.inverse_transform(y_train_pred_knn[:,np.newaxis]).ravel()\n",
    "# knn_residual.head()"
   ]
  },
  {
   "cell_type": "code",
   "execution_count": null,
   "id": "cd22664f",
   "metadata": {},
   "outputs": [],
   "source": [
    "from sklearn.feature_selection import SelectFromModel\n",
    "\n",
    "rf_pipeline = Pipeline([(\"rfr\", RandomForestRegressor(criterion='mse', random_state=100, max_features='sqrt',n_jobs=-1,verbose=1))])\n",
    "\n",
    "rf_pipeline_params = {\"rfr__n_estimators\":[100,200],\n",
    "           \"rfr__max_leaf_nodes\":[30,60],\n",
    "            \"rfr__bootstrap\":[True ,False]}\n",
    "\n",
    "rf_grid_pipeline = GridSearchCV(rf_pipeline, rf_pipeline_params, scoring= 'neg_mean_squared_error', \n",
    "                        cv = 5, \n",
    "                        return_train_score=True,\n",
    "                        n_jobs=-1,\n",
    "                        verbose = 1)\n",
    "# fit\n",
    "rf_grid_pipeline.fit(X_train, y_train)\n",
    "print(rf_grid_pipeline.best_params_)\n",
    "rf_model = rf_grid_pipeline.best_estimator_\n",
    "print(rf_grid_pipeline.best_score_)"
   ]
  },
  {
   "cell_type": "code",
   "execution_count": null,
   "id": "c7a7a923",
   "metadata": {},
   "outputs": [],
   "source": [
    "y_train_pred_rf = rf_model.predict(X_train)"
   ]
  },
  {
   "cell_type": "code",
   "execution_count": null,
   "id": "149ff7b5",
   "metadata": {},
   "outputs": [],
   "source": [
    "rf_residual = pd.DataFrame()\n",
    "rf_residual['Actual'] = y_train\n",
    "rf_residual['predicted'] = y_train_pred_rf\n",
    "rf_residual['residual'] = rf_residual['Actual'] - rf_residual['predicted']\n",
    "rf_residual['sales'] = train['Sales'].values\n",
    "rf_residual['predicted_sales'] = pt.inverse_transform(y_train_pred_rf[:,np.newaxis]).ravel()\n",
    "rf_residual.head()"
   ]
  },
  {
   "cell_type": "code",
   "execution_count": null,
   "id": "4e6d7fdd",
   "metadata": {},
   "outputs": [],
   "source": [
    "# from sklearn.svm import SVR"
   ]
  },
  {
   "cell_type": "code",
   "execution_count": null,
   "id": "933d89b4",
   "metadata": {},
   "outputs": [],
   "source": [
    "# svr_pipeline = Pipeline([(\"svr\", SVR(kernel='rbf'))])\n",
    "# svr_pipeline_params = {\"svr__C\":[0.01, 0.1]}\n",
    "\n",
    "# svr_grid_pipeline = GridSearchCV(svr_pipeline, svr_pipeline_params, scoring= 'neg_mean_squared_error', \n",
    "#                         cv = 5, \n",
    "#                         return_train_score=True,\n",
    "#                         n_jobs=-1,\n",
    "#                         verbose = 1)\n",
    "# # fit\n",
    "# svr_grid_pipeline.fit(X_train, y_train)\n",
    "# print(svr_grid_pipeline.best_params_)\n",
    "# svr_model = svr_grid_pipeline.best_estimator_\n",
    "# print(svr_grid_pipeline.best_score_)"
   ]
  },
  {
   "cell_type": "code",
   "execution_count": null,
   "id": "0aec83aa",
   "metadata": {},
   "outputs": [],
   "source": [
    "# y_train_pred_svr = svr_model.predict(X_train)"
   ]
  },
  {
   "cell_type": "code",
   "execution_count": null,
   "id": "3aacd887",
   "metadata": {},
   "outputs": [],
   "source": [
    "# svr_residual = pd.DataFrame()\n",
    "# svr_residual['Actual'] = y_train\n",
    "# svr_residual['predicted'] = y_train_pred_svr\n",
    "# svr_residual['residual'] = svr_residual['Actual'] - svr_residual['predicted']\n",
    "# svr_residual['sales'] = train['Sales'].values\n",
    "# svr_residual['predicted_sales'] = pt.inverse_transform(y_train_pred_svr[:,np.newaxis]).ravel()\n",
    "# svr_residual.head()"
   ]
  },
  {
   "cell_type": "markdown",
   "id": "34ad0c0b",
   "metadata": {},
   "source": [
    "## Predictions on the test dataset"
   ]
  },
  {
   "cell_type": "code",
   "execution_count": null,
   "id": "49bd1d7d",
   "metadata": {},
   "outputs": [],
   "source": [
    "print(validation.shape)\n",
    "validation[\"Store_id\"].replace(avg_sales_by_store_id, inplace=True)\n",
    "validation[\"Discount\"].replace({'Yes':1,'No':0}, inplace=True)\n"
   ]
  },
  {
   "cell_type": "code",
   "execution_count": null,
   "id": "4b239713",
   "metadata": {},
   "outputs": [],
   "source": [
    "validation = encode_and_bind(validation,\"Store_Type\")\n",
    "validation = encode_and_bind(validation,\"Location_Type\")\n",
    "validation = encode_and_bind(validation,\"Region_Code\")"
   ]
  },
  {
   "cell_type": "code",
   "execution_count": null,
   "id": "4cd88cf2",
   "metadata": {},
   "outputs": [],
   "source": [
    "\n",
    "validation.drop([\"Store_Type\",\"Location_Type\", \"Region_Code\"],axis=1,inplace=True)\n",
    "\n",
    "validation.head()"
   ]
  },
  {
   "cell_type": "code",
   "execution_count": null,
   "id": "036117b1",
   "metadata": {},
   "outputs": [],
   "source": [
    "validation['Month'] = validation['Date'].dt.month\n",
    "validation['Day'] = validation['Date'].dt.day\n",
    "validation['Dayofyear'] = validation['Date'].dt.dayofyear\n",
    "validation['Weekofyear'] = validation['Date'].dt.weekofyear\n",
    "validation['Dayofweek'] = validation['Date'].dt.dayofweek\n",
    "validation['is_month_start'] = validation['Date'].dt.is_month_start.astype(int)\n",
    "validation['is_month_end'] = validation['Date'].dt.is_month_end.astype(int)\n",
    "validation['is_quarter_start'] = validation['Date'].dt.is_quarter_start.astype(int)\n",
    "validation['is_quarter_end'] = validation['Date'].dt.is_quarter_end.astype(int)\n",
    "\n",
    "validation.drop(['Date', '#Order'], axis=1, inplace=True)\n"
   ]
  },
  {
   "cell_type": "code",
   "execution_count": null,
   "id": "efe30196",
   "metadata": {},
   "outputs": [],
   "source": [
    "sales_transform_val = pt.transform(validation['Sales'].values[:,np.newaxis])"
   ]
  },
  {
   "cell_type": "code",
   "execution_count": null,
   "id": "470ffe78",
   "metadata": {},
   "outputs": [],
   "source": [
    "y_validation = pd.Series(np.ravel(sales_transform_val), index=validation.index)\n",
    "X_validation =validation.loc[:,validation.columns !='Sales']"
   ]
  },
  {
   "cell_type": "code",
   "execution_count": null,
   "id": "8823c515",
   "metadata": {},
   "outputs": [],
   "source": [
    "X_validation.head()"
   ]
  },
  {
   "cell_type": "markdown",
   "id": "0dc0fce4",
   "metadata": {},
   "source": [
    "### Linear Regression Model"
   ]
  },
  {
   "cell_type": "code",
   "execution_count": null,
   "id": "fdb1bef5",
   "metadata": {},
   "outputs": [],
   "source": [
    "\n",
    "def plot_errors(model,X_input, y_actual, title):\n",
    "    y_train_pred = model.predict(X_input)\n",
    "    try:\n",
    "        residu=y_actual.values.ravel()- y_train_pred.ravel() ##can use reshape(-1,1) instead of ravel to covert to (n,)\n",
    "    except:\n",
    "        residu=y_actual.values.ravel()- y_train_pred.values\n",
    "\n",
    "    fig, [ax1, ax2, ax3] = plt.subplots(nrows=1, ncols=3,figsize=(16,4))\n",
    "\n",
    "    ax1.scatter(y_train_pred,residu)\n",
    "    ax1.set_xlabel('y_pred')                          # X-label\n",
    "    ax1.set_ylabel('residual') \n",
    "    ax1.set_title('y_pred vs residual')\n",
    "\n",
    "    sns.distplot((residu), bins = 20,ax=ax2)\n",
    "    ax2.set_xlabel('Errors')                         # X-label\n",
    "    ax2.set_title('Density plot of residuals')\n",
    "\n",
    "    sm.qqplot(residu,line='s',ax=ax3)\n",
    "    ax3.set_title('QQ Plot')\n",
    "    plt.suptitle(title)\n",
    "    plt.show()\n",
    "\n"
   ]
  },
  {
   "cell_type": "code",
   "execution_count": null,
   "id": "60ba6ee5",
   "metadata": {},
   "outputs": [],
   "source": [
    "plot_errors(lm_3, sm.add_constant(X_validation)[X_train_3.columns], y_validation, 'Linear Regression')"
   ]
  },
  {
   "cell_type": "code",
   "execution_count": null,
   "id": "de2e7296",
   "metadata": {},
   "outputs": [],
   "source": [
    "\n",
    "def residual_errors(model,X_input, y_actual):\n",
    "    y_train_pred = model.predict(X_input)\n",
    "    residual_results=pd.DataFrame()\n",
    "    residual_results['Actual'] =y_actual.values.ravel()\n",
    "    residual_results['predicted'] = y_train_pred.ravel()\n",
    "    residual_results['residual'] = residual_results['Actual'] - residual_results['predicted']\n",
    "    residual_results['sales']= validation['Sales'].copy()\n",
    "    residual_results['predicted_sales'] = pt.inverse_transform(y_train_pred[:, np.newaxis])\n",
    "    residual_results.index = X_input.index\n",
    "    return residual_results"
   ]
  },
  {
   "cell_type": "code",
   "execution_count": null,
   "id": "aa3d94f3",
   "metadata": {},
   "outputs": [],
   "source": [
    "test_residual_results_lr = residual_errors(lm_3, sm.add_constant(X_validation)[X_train_3.columns], y_validation)"
   ]
  },
  {
   "cell_type": "code",
   "execution_count": null,
   "id": "59476337",
   "metadata": {},
   "outputs": [],
   "source": [
    "test_residual_results_lr['sales'] = validation['Sales'].copy()\n",
    "test_residual_results_lr.head()"
   ]
  },
  {
   "cell_type": "code",
   "execution_count": null,
   "id": "b36b5b56",
   "metadata": {},
   "outputs": [],
   "source": [
    "def regression_metrics(df, model):\n",
    "\n",
    "    print(\"\\n\")\n",
    "    print(\"Regression results for actual shares   : \", model, \"\\n\")\n",
    "    regression_results(df['sales'].values, df['predicted_sales'].values)"
   ]
  },
  {
   "cell_type": "code",
   "execution_count": null,
   "id": "88d2c09b",
   "metadata": {},
   "outputs": [],
   "source": [
    "regression_metrics(test_residual_results_lr, 'Linear Regression')"
   ]
  },
  {
   "cell_type": "markdown",
   "id": "a35ea280",
   "metadata": {},
   "source": [
    "### XGBR on whole dataset"
   ]
  },
  {
   "cell_type": "code",
   "execution_count": null,
   "id": "98c65855",
   "metadata": {},
   "outputs": [],
   "source": [
    "y_test_pred_xgbr = xgbr_model.predict(X_validation)"
   ]
  },
  {
   "cell_type": "code",
   "execution_count": null,
   "id": "b4e099e7",
   "metadata": {},
   "outputs": [],
   "source": [
    "plot_errors(xgbr_model, X_validation, y_validation, 'XGB Regression')"
   ]
  },
  {
   "cell_type": "code",
   "execution_count": null,
   "id": "1b6b420b",
   "metadata": {},
   "outputs": [],
   "source": [
    "test_residual_results_xgbr = residual_errors(xgbr_model,X_validation, y_validation)\n",
    "\n",
    "test_residual_results_xgbr['sales'] = validation['Sales'].copy()\n",
    "test_residual_results_xgbr.head()"
   ]
  },
  {
   "cell_type": "code",
   "execution_count": null,
   "id": "dd1a04ef",
   "metadata": {},
   "outputs": [],
   "source": [
    "regression_metrics(test_residual_results_xgbr, 'XGB Regression')"
   ]
  },
  {
   "cell_type": "markdown",
   "id": "02f3e9a8",
   "metadata": {},
   "source": [
    "### Random Forest Regressor"
   ]
  },
  {
   "cell_type": "code",
   "execution_count": null,
   "id": "56198956",
   "metadata": {},
   "outputs": [],
   "source": [
    "plot_errors(rf_model, X_validation, y_validation, 'XGB Regression')"
   ]
  },
  {
   "cell_type": "code",
   "execution_count": null,
   "id": "864a0a7d",
   "metadata": {},
   "outputs": [],
   "source": [
    "test_residual_results_rf = residual_errors(rf_model,X_validation, y_validation)\n",
    "\n",
    "test_residual_results_rf['sales'] = validation['Sales'].copy()\n",
    "test_residual_results_rf.head()"
   ]
  },
  {
   "cell_type": "code",
   "execution_count": null,
   "id": "f1b7d1c4",
   "metadata": {},
   "outputs": [],
   "source": [
    "regression_metrics(test_residual_results_rf, 'RF Regression')"
   ]
  },
  {
   "cell_type": "markdown",
   "id": "c4c50e03",
   "metadata": {},
   "source": [
    "### Stacking"
   ]
  },
  {
   "cell_type": "code",
   "execution_count": null,
   "id": "670a6de0",
   "metadata": {},
   "outputs": [],
   "source": [
    "stacking = pd.DataFrame()\n",
    "stacking['lr']     = test_residual_results_lr['predicted'].values\n",
    "\n",
    "stacking['xgbr']   = test_residual_results_xgbr['predicted'].values\n",
    "stacking['rf']     = test_residual_results_rf['predicted'].values\n",
    "\n",
    "stacking['actual'] = test_residual_results_rf['Actual'].values"
   ]
  },
  {
   "cell_type": "code",
   "execution_count": null,
   "id": "0a9ee1f3",
   "metadata": {},
   "outputs": [],
   "source": [
    "stacking.head()"
   ]
  },
  {
   "cell_type": "code",
   "execution_count": null,
   "id": "ede32f40",
   "metadata": {},
   "outputs": [],
   "source": [
    "from sklearn.linear_model import ElasticNet"
   ]
  },
  {
   "cell_type": "code",
   "execution_count": null,
   "id": "edd809b1",
   "metadata": {},
   "outputs": [],
   "source": [
    "stack_pipeline = Pipeline([(\"elasticnet\", ElasticNet(random_state=0))])\n",
    "\n",
    "stack_pipeline_params = {'elasticnet__l1_ratio':[0,0.2,0.5,0.8,1],\n",
    "                            'elasticnet__alpha':[0.001,0.01,0.1,],\n",
    "                           'elasticnet__fit_intercept':[True,False]}\n",
    "\n",
    "stack_grid_pipeline = GridSearchCV(stack_pipeline, stack_pipeline_params, scoring= 'neg_mean_squared_error', \n",
    "                        cv = 5, \n",
    "                        return_train_score=True,\n",
    "                        n_jobs=-1,\n",
    "                        verbose = 1)\n",
    "# fit\n",
    "stack_grid_pipeline.fit(stacking[['lr','xgbr','rf']],stacking['actual'])\n",
    "print(stack_grid_pipeline.best_params_)\n",
    "stack_model = stack_grid_pipeline.best_estimator_\n",
    "print(stack_grid_pipeline.best_score_)"
   ]
  },
  {
   "cell_type": "markdown",
   "id": "9847c96b",
   "metadata": {},
   "source": [
    "# Final Submission"
   ]
  },
  {
   "cell_type": "code",
   "execution_count": null,
   "id": "700f7adc",
   "metadata": {},
   "outputs": [],
   "source": [
    "print(unseen.shape)\n",
    "unseen[\"Store_id\"].replace(avg_sales_by_store_id, inplace=True)\n",
    "unseen[\"Discount\"].replace({'Yes':1,'No':0}, inplace=True)\n"
   ]
  },
  {
   "cell_type": "code",
   "execution_count": null,
   "id": "9fad286e",
   "metadata": {},
   "outputs": [],
   "source": [
    "\n",
    "unseen = encode_and_bind(unseen,\"Store_Type\")\n",
    "unseen = encode_and_bind(unseen,\"Location_Type\")\n",
    "unseen = encode_and_bind(unseen,\"Region_Code\")"
   ]
  },
  {
   "cell_type": "code",
   "execution_count": null,
   "id": "cf854f76",
   "metadata": {},
   "outputs": [],
   "source": [
    "unseen.drop([\"Store_Type\",\"Location_Type\", \"Region_Code\"],axis=1,inplace=True)\n",
    "\n",
    "unseen.head()"
   ]
  },
  {
   "cell_type": "code",
   "execution_count": null,
   "id": "b3ffda34",
   "metadata": {},
   "outputs": [],
   "source": [
    "unseen['Month'] = unseen['Date'].dt.month\n",
    "unseen['Day'] = unseen['Date'].dt.day\n",
    "unseen['Dayofyear'] = unseen['Date'].dt.dayofyear\n",
    "unseen['Weekofyear'] = unseen['Date'].dt.weekofyear\n",
    "unseen['Dayofweek'] = unseen['Date'].dt.dayofweek\n",
    "unseen['is_month_start'] = unseen['Date'].dt.is_month_start.astype(int)\n",
    "unseen['is_month_end'] = unseen['Date'].dt.is_month_end.astype(int)\n",
    "unseen['is_quarter_start'] = unseen['Date'].dt.is_quarter_start.astype(int)\n",
    "unseen['is_quarter_end'] = unseen['Date'].dt.is_quarter_end.astype(int)\n",
    "\n",
    "unseen.drop(['Date'], axis=1, inplace=True)\n"
   ]
  },
  {
   "cell_type": "code",
   "execution_count": null,
   "id": "8bcd36b0",
   "metadata": {},
   "outputs": [],
   "source": [
    "X_unseen =unseen.loc[:,unseen.columns !='Sales']"
   ]
  },
  {
   "cell_type": "code",
   "execution_count": null,
   "id": "04e1fa3b",
   "metadata": {},
   "outputs": [],
   "source": [
    "X_unseen.head()"
   ]
  },
  {
   "cell_type": "markdown",
   "id": "09390af5",
   "metadata": {},
   "source": [
    "### Linear Regression submission"
   ]
  },
  {
   "cell_type": "code",
   "execution_count": null,
   "id": "7e1f7a71",
   "metadata": {},
   "outputs": [],
   "source": [
    "linear_results =pd.DataFrame()\n",
    "linear_results['lr']=  lm_3.predict(sm.add_constant(X_unseen)[X_train_3.columns])"
   ]
  },
  {
   "cell_type": "code",
   "execution_count": null,
   "id": "e14a0b48",
   "metadata": {},
   "outputs": [],
   "source": [
    "submission_1_lr = pd.DataFrame()\n",
    "submission_1_lr['ID'] = X_unseen.index\n",
    "submission_1_lr['Sales'] = pt.inverse_transform(linear_results.lr.values[:, np.newaxis])"
   ]
  },
  {
   "cell_type": "code",
   "execution_count": null,
   "id": "61fed7cf",
   "metadata": {},
   "outputs": [],
   "source": [
    "submission_1_lr.head()"
   ]
  },
  {
   "cell_type": "code",
   "execution_count": null,
   "id": "af1c9524",
   "metadata": {},
   "outputs": [],
   "source": [
    "submission_1_lr.to_csv(\"submission_1_lr.csv\", index=False)"
   ]
  },
  {
   "cell_type": "markdown",
   "id": "3ad677f5",
   "metadata": {},
   "source": [
    "### XGBR submission"
   ]
  },
  {
   "cell_type": "code",
   "execution_count": null,
   "id": "a53cd148",
   "metadata": {},
   "outputs": [],
   "source": [
    "y_unseen_pred_xgbr = xgbr_model.predict(X_unseen)"
   ]
  },
  {
   "cell_type": "code",
   "execution_count": null,
   "id": "18bae02e",
   "metadata": {},
   "outputs": [],
   "source": [
    "submission_2_xgbr = pd.DataFrame()\n",
    "submission_2_xgbr['ID'] = X_unseen.index\n",
    "submission_2_xgbr['Sales'] = pt.inverse_transform(y_unseen_pred_xgbr[:, np.newaxis])"
   ]
  },
  {
   "cell_type": "code",
   "execution_count": null,
   "id": "99899c5b",
   "metadata": {},
   "outputs": [],
   "source": [
    "submission_2_xgbr.head()"
   ]
  },
  {
   "cell_type": "code",
   "execution_count": null,
   "id": "61db4b12",
   "metadata": {},
   "outputs": [],
   "source": [
    "submission_2_xgbr.to_csv(\"submission_2_xgbr.csv\", index=False)"
   ]
  },
  {
   "cell_type": "markdown",
   "id": "14557b10",
   "metadata": {},
   "source": [
    "### RF submission"
   ]
  },
  {
   "cell_type": "code",
   "execution_count": null,
   "id": "83e9e14b",
   "metadata": {},
   "outputs": [],
   "source": [
    "y_unseen_pred_rf = rf_model.predict(X_unseen)"
   ]
  },
  {
   "cell_type": "code",
   "execution_count": null,
   "id": "76e23640",
   "metadata": {},
   "outputs": [],
   "source": [
    "submission_3_rf = pd.DataFrame()\n",
    "submission_3_rf['ID'] = X_unseen.index\n",
    "submission_3_rf['Sales'] = pt.inverse_transform(y_unseen_pred_rf[:, np.newaxis])"
   ]
  },
  {
   "cell_type": "code",
   "execution_count": null,
   "id": "7e418ff1",
   "metadata": {},
   "outputs": [],
   "source": [
    "submission_3_rf.head()"
   ]
  },
  {
   "cell_type": "code",
   "execution_count": null,
   "id": "18f135e0",
   "metadata": {},
   "outputs": [],
   "source": [
    "submission_3_rf.to_csv(\"submission_3_rf.csv\", index=False)"
   ]
  },
  {
   "cell_type": "markdown",
   "id": "8902d288",
   "metadata": {},
   "source": [
    "## Stacking on unseen dataset"
   ]
  },
  {
   "cell_type": "code",
   "execution_count": null,
   "id": "ed6a3d2d",
   "metadata": {},
   "outputs": [],
   "source": [
    "unseen_stacking = pd.DataFrame()\n",
    "\n",
    "unseen_stacking['lr']     = linear_results['lr'].values\n",
    "unseen_stacking['xgbr']   = xgbr_model.predict(X_unseen)\n",
    "unseen_stacking['rf']     = rf_model.predict(X_unseen)\n"
   ]
  },
  {
   "cell_type": "code",
   "execution_count": null,
   "id": "f4e2dbcc",
   "metadata": {},
   "outputs": [],
   "source": [
    "unseen_stacking.head()"
   ]
  },
  {
   "cell_type": "code",
   "execution_count": null,
   "id": "01b950a7",
   "metadata": {},
   "outputs": [],
   "source": [
    "stacking_submission = pd.DataFrame()\n",
    "stacking_submission['ID']= X_unseen.index\n",
    "stacking_submission['Sales'] = pt.inverse_transform(stack_model.predict(unseen_stacking)[:, np.newaxis]) "
   ]
  },
  {
   "cell_type": "code",
   "execution_count": null,
   "id": "36506de0",
   "metadata": {},
   "outputs": [],
   "source": [
    "stacking_submission.head()"
   ]
  },
  {
   "cell_type": "code",
   "execution_count": null,
   "id": "ebb6e163",
   "metadata": {},
   "outputs": [],
   "source": [
    "stacking_submission.to_csv(\"submission_4_stacking.csv\", index= False)"
   ]
  },
  {
   "cell_type": "code",
   "execution_count": null,
   "id": "048b00aa",
   "metadata": {},
   "outputs": [],
   "source": []
  }
 ],
 "metadata": {
  "kernelspec": {
   "display_name": "Python 3",
   "language": "python",
   "name": "python3"
  },
  "language_info": {
   "codemirror_mode": {
    "name": "ipython",
    "version": 3
   },
   "file_extension": ".py",
   "mimetype": "text/x-python",
   "name": "python",
   "nbconvert_exporter": "python",
   "pygments_lexer": "ipython3",
   "version": "3.8.10"
  }
 },
 "nbformat": 4,
 "nbformat_minor": 5
}
